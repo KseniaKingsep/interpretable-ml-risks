{
 "cells": [
  {
   "cell_type": "code",
   "execution_count": 1,
   "metadata": {
    "ExecuteTime": {
     "end_time": "2021-11-29T19:31:00.902723Z",
     "start_time": "2021-11-29T19:30:53.923713Z"
    }
   },
   "outputs": [
    {
     "name": "stderr",
     "output_type": "stream",
     "text": [
      "None of PyTorch, TensorFlow >= 2.0, or Flax have been found. Models won't be available and only tokenizers, configuration and file/data utilities can be used.\n"
     ]
    },
    {
     "data": {
      "text/plain": [
       "'1.15.0'"
      ]
     },
     "execution_count": 1,
     "metadata": {},
     "output_type": "execute_result"
    }
   ],
   "source": [
    "%load_ext autoreload\n",
    "%autoreload 2\n",
    "\n",
    "import sys\n",
    "import math\n",
    "import pickle \n",
    "import joblib\n",
    "import pandas as pd\n",
    "import numpy as np\n",
    "import seaborn as sns\n",
    "import matplotlib.pyplot as plt\n",
    "from random import sample\n",
    "\n",
    "%matplotlib inline\n",
    "\n",
    "import warnings\n",
    "warnings.filterwarnings('ignore')\n",
    "\n",
    "sys.path.append('../')\n",
    "\n",
    "from src.training.caseci import *\n",
    "from src.explainers import *\n",
    "from src.timelimit import *\n",
    "from src.explainers import *\n",
    "\n",
    "pd.set_option('display.max_columns', 500)\n",
    "\n",
    "import tensorflow as tf"
   ]
  },
  {
   "cell_type": "markdown",
   "metadata": {},
   "source": [
    "## Get a model"
   ]
  },
  {
   "cell_type": "code",
   "execution_count": 2,
   "metadata": {
    "ExecuteTime": {
     "end_time": "2021-11-29T19:31:01.107820Z",
     "start_time": "2021-11-29T19:31:00.905444Z"
    }
   },
   "outputs": [],
   "source": [
    "case = CaseCI()"
   ]
  },
  {
   "cell_type": "code",
   "execution_count": 3,
   "metadata": {
    "ExecuteTime": {
     "end_time": "2021-11-29T19:31:26.010696Z",
     "start_time": "2021-11-29T19:31:01.109595Z"
    },
    "collapsed": true
   },
   "outputs": [
    {
     "name": "stdout",
     "output_type": "stream",
     "text": [
      "Fitting 5 folds for each of 6 candidates, totalling 30 fits\n",
      "[LightGBM] [Warning] feature_fraction is set=0.6, colsample_bytree=1.0 will be ignored. Current value: feature_fraction=0.6\n",
      "[LightGBM] [Warning] feature_fraction is set=0.6, colsample_bytree=1.0 will be ignored. Current value: feature_fraction=0.6\n",
      "[LightGBM] [Warning] feature_fraction is set=0.6, colsample_bytree=1.0 will be ignored. Current value: feature_fraction=0.6\n",
      "[LightGBM] [Warning] feature_fraction is set=0.6, colsample_bytree=1.0 will be ignored. Current value: feature_fraction=0.6\n",
      "[LightGBM] [Warning] feature_fraction is set=0.6, colsample_bytree=1.0 will be ignored. Current value: feature_fraction=0.6\n",
      "[LightGBM] [Warning] feature_fraction is set=0.6, colsample_bytree=1.0 will be ignored. Current value: feature_fraction=0.6\n",
      "[LightGBM] [Warning] feature_fraction is set=0.6, colsample_bytree=1.0 will be ignored. Current value: feature_fraction=0.6\n",
      "[LightGBM] [Warning] feature_fraction is set=0.6, colsample_bytree=1.0 will be ignored. Current value: feature_fraction=0.6\n",
      "[LightGBM] [Warning] feature_fraction is set=0.6, colsample_bytree=1.0 will be ignored. Current value: feature_fraction=0.6\n",
      "[LightGBM] [Warning] feature_fraction is set=0.6, colsample_bytree=1.0 will be ignored. Current value: feature_fraction=0.6\n",
      "[LightGBM] [Warning] feature_fraction is set=0.6, colsample_bytree=1.0 will be ignored. Current value: feature_fraction=0.6\n",
      "[LightGBM] [Warning] feature_fraction is set=0.6, colsample_bytree=1.0 will be ignored. Current value: feature_fraction=0.6\n",
      "[LightGBM] [Warning] feature_fraction is set=0.6, colsample_bytree=1.0 will be ignored. Current value: feature_fraction=0.6\n",
      "[LightGBM] [Warning] feature_fraction is set=0.6, colsample_bytree=1.0 will be ignored. Current value: feature_fraction=0.6\n",
      "[LightGBM] [Warning] feature_fraction is set=0.6, colsample_bytree=1.0 will be ignored. Current value: feature_fraction=0.6\n",
      "[LightGBM] [Warning] feature_fraction is set=0.6, colsample_bytree=1.0 will be ignored. Current value: feature_fraction=0.6\n",
      "[LightGBM] [Warning] feature_fraction is set=0.6, colsample_bytree=1.0 will be ignored. Current value: feature_fraction=0.6\n",
      "[LightGBM] [Warning] feature_fraction is set=0.6, colsample_bytree=1.0 will be ignored. Current value: feature_fraction=0.6\n",
      "[LightGBM] [Warning] feature_fraction is set=0.6, colsample_bytree=1.0 will be ignored. Current value: feature_fraction=0.6\n",
      "[LightGBM] [Warning] feature_fraction is set=0.6, colsample_bytree=1.0 will be ignored. Current value: feature_fraction=0.6\n",
      "[LightGBM] [Warning] feature_fraction is set=0.6, colsample_bytree=1.0 will be ignored. Current value: feature_fraction=0.6\n",
      "[LightGBM] [Warning] feature_fraction is set=0.6, colsample_bytree=1.0 will be ignored. Current value: feature_fraction=0.6\n",
      "[LightGBM] [Warning] feature_fraction is set=0.6, colsample_bytree=1.0 will be ignored. Current value: feature_fraction=0.6\n",
      "[LightGBM] [Warning] feature_fraction is set=0.6, colsample_bytree=1.0 will be ignored. Current value: feature_fraction=0.6\n",
      "[LightGBM] [Warning] feature_fraction is set=0.6, colsample_bytree=1.0 will be ignored. Current value: feature_fraction=0.6\n",
      "[LightGBM] [Warning] feature_fraction is set=0.6, colsample_bytree=1.0 will be ignored. Current value: feature_fraction=0.6\n",
      "[LightGBM] [Warning] feature_fraction is set=0.6, colsample_bytree=1.0 will be ignored. Current value: feature_fraction=0.6\n",
      "[LightGBM] [Warning] feature_fraction is set=0.6, colsample_bytree=1.0 will be ignored. Current value: feature_fraction=0.6\n",
      "[LightGBM] [Warning] feature_fraction is set=0.6, colsample_bytree=1.0 will be ignored. Current value: feature_fraction=0.6\n",
      "[LightGBM] [Warning] feature_fraction is set=0.6, colsample_bytree=1.0 will be ignored. Current value: feature_fraction=0.6\n",
      "[LightGBM] [Warning] feature_fraction is set=0.6, colsample_bytree=1.0 will be ignored. Current value: feature_fraction=0.6\n"
     ]
    }
   ],
   "source": [
    "%%capture --no-display\n",
    "case.train_model()"
   ]
  },
  {
   "cell_type": "code",
   "execution_count": 4,
   "metadata": {
    "ExecuteTime": {
     "end_time": "2021-11-29T19:31:26.167390Z",
     "start_time": "2021-11-29T19:31:26.013612Z"
    }
   },
   "outputs": [],
   "source": [
    "case.save_pipe(1, 'case_mean_imp')"
   ]
  },
  {
   "cell_type": "code",
   "execution_count": 5,
   "metadata": {
    "ExecuteTime": {
     "end_time": "2021-11-29T19:31:26.689851Z",
     "start_time": "2021-11-29T19:31:26.169500Z"
    }
   },
   "outputs": [
    {
     "name": "stdout",
     "output_type": "stream",
     "text": [
      " ROC AUC train :  0.6738824367934839 \n",
      " ROC AUC val :  0.6408452273092748 \n",
      " ROC AUC test :  0.6412330366802789 \n",
      "\n",
      "Precision test :  0.8477747144545097\n",
      "Recall test :  0.7040641099026903\n"
     ]
    },
    {
     "data": {
      "image/png": "[encoded data removed]",
      "text/plain": [
       "<Figure size 432x288 with 2 Axes>"
      ]
     },
     "metadata": {
      "needs_background": "light"
     },
     "output_type": "display_data"
    }
   ],
   "source": [
    "case.print_metrics()"
   ]
  },
  {
   "cell_type": "markdown",
   "metadata": {
    "heading_collapsed": true
   },
   "source": [
    "## Changeable features\n",
    "\n",
    "1.\tОбщее количество сделок, заключенных с организацией на текущий день. С ростом количества открытых сделок на одного клиента вероятность отказа снижается на 10%. Формулировка задачи: «Проверь по своим клиентам соблюдение контактной политики. Старайся оперативно реагировать на потребности клиента». Выводим, если менее 5 открытых сделок на одного клиента\n",
    "F_5 (PDP-plot)\n",
    "2.\tДоля завершенных звонков среди всех активностей за 3 дня. С ростом доли звонков среди всех активностей вероятность отказа растет на 1%. «Старайся поддерживать очный контакт с клиентами». Выводим, если более 0.9 доля звонков.\n",
    "F_12 (PDP-plot)\n",
    "3.\tСреднее количество уникальных продуктов, предложенных клиенту за 3 дня. С ростом количества уникальных предложенных продуктов вероятность отказа растет на 2%. «Старайся точно идентифицировать потребности клиента и не предлагать новые продукты без необходимости». Выводим, если более 4 количество уникальных предложенных продуктов.\n",
    "F_24 (PDP-plot)\n",
    "4.\tКоличество уникальных продуктов, предложенных клиентам за 3 дня. С ростом числа уникальных предложенных продуктов у клиента вероятность отказа растет на 0.9%. «Старайся не предлагать большой ряд продуктов, уточни потребность клиента». Выводим, если более 15 уникальных предложенных клиентам продуктов.\n",
    "F_18 (PDP-plot)\n",
    "5.\tСреднее количество завершенных встреч и завершенных звонков за 3 дня. Если совершать встречи, вероятность отказа снижается на 0.4%. «Старайся поддерживать очный контакт с клиентом». Выводим, если нет встреч и есть звонки за последние 3 дня.\n",
    "F_15, F_72 (PDP-plot)\n",
    "\n"
   ]
  },
  {
   "cell_type": "markdown",
   "metadata": {
    "ExecuteTime": {
     "end_time": "2021-11-23T18:44:26.283700Z",
     "start_time": "2021-11-23T18:44:25.490275Z"
    }
   },
   "source": [
    "## DiCE Report"
   ]
  },
  {
   "cell_type": "markdown",
   "metadata": {},
   "source": [
    "### Generate counterfactuals for a sample n=100 using only changeable features"
   ]
  },
  {
   "cell_type": "code",
   "execution_count": 6,
   "metadata": {
    "ExecuteTime": {
     "end_time": "2021-11-29T19:31:26.789858Z",
     "start_time": "2021-11-29T19:31:26.692022Z"
    }
   },
   "outputs": [],
   "source": [
    "features_to_vary = ['F_5', 'F_12', 'F_24', 'F_18', 'F_15', 'F_72']"
   ]
  },
  {
   "cell_type": "code",
   "execution_count": 7,
   "metadata": {
    "ExecuteTime": {
     "end_time": "2021-11-29T19:31:27.482238Z",
     "start_time": "2021-11-29T19:31:26.791671Z"
    }
   },
   "outputs": [],
   "source": [
    "dice = DiCeReport(case, desired_class=0, \n",
    "                  features_to_vary=features_to_vary)\n",
    "dice.create_explainer(method='random')"
   ]
  },
  {
   "cell_type": "code",
   "execution_count": 8,
   "metadata": {
    "ExecuteTime": {
     "end_time": "2021-11-29T19:31:29.381833Z",
     "start_time": "2021-11-29T19:31:27.484259Z"
    }
   },
   "outputs": [
    {
     "name": "stderr",
     "output_type": "stream",
     "text": [
      "100%|█████████████████████████████████████████████| 1/1 [00:01<00:00,  1.68s/it]"
     ]
    },
    {
     "name": "stdout",
     "output_type": "stream",
     "text": [
      "Query instance (original outcome : 1)\n"
     ]
    },
    {
     "name": "stderr",
     "output_type": "stream",
     "text": [
      "\n"
     ]
    },
    {
     "data": {
      "text/html": [
       "<div>\n",
       "<style scoped>\n",
       "    .dataframe tbody tr th:only-of-type {\n",
       "        vertical-align: middle;\n",
       "    }\n",
       "\n",
       "    .dataframe tbody tr th {\n",
       "        vertical-align: top;\n",
       "    }\n",
       "\n",
       "    .dataframe thead th {\n",
       "        text-align: right;\n",
       "    }\n",
       "</style>\n",
       "<table border=\"1\" class=\"dataframe\">\n",
       "  <thead>\n",
       "    <tr style=\"text-align: right;\">\n",
       "      <th></th>\n",
       "      <th>F_0</th>\n",
       "      <th>F_1</th>\n",
       "      <th>F_2</th>\n",
       "      <th>F_3</th>\n",
       "      <th>F_4</th>\n",
       "      <th>F_5</th>\n",
       "      <th>F_6</th>\n",
       "      <th>F_7</th>\n",
       "      <th>F_8</th>\n",
       "      <th>F_9</th>\n",
       "      <th>F_10</th>\n",
       "      <th>F_11</th>\n",
       "      <th>F_12</th>\n",
       "      <th>F_13</th>\n",
       "      <th>F_14</th>\n",
       "      <th>F_15</th>\n",
       "      <th>F_16</th>\n",
       "      <th>F_17</th>\n",
       "      <th>F_18</th>\n",
       "      <th>F_19</th>\n",
       "      <th>F_20</th>\n",
       "      <th>F_21</th>\n",
       "      <th>F_22</th>\n",
       "      <th>F_23</th>\n",
       "      <th>F_24</th>\n",
       "      <th>F_25</th>\n",
       "      <th>F_26</th>\n",
       "      <th>F_27</th>\n",
       "      <th>F_28</th>\n",
       "      <th>F_29</th>\n",
       "      <th>F_30</th>\n",
       "      <th>F_31</th>\n",
       "      <th>F_32</th>\n",
       "      <th>F_33</th>\n",
       "      <th>F_34</th>\n",
       "      <th>F_35</th>\n",
       "      <th>F_36</th>\n",
       "      <th>F_37</th>\n",
       "      <th>F_38</th>\n",
       "      <th>F_39</th>\n",
       "      <th>F_40</th>\n",
       "      <th>F_41</th>\n",
       "      <th>F_42</th>\n",
       "      <th>F_43</th>\n",
       "      <th>F_44</th>\n",
       "      <th>F_45</th>\n",
       "      <th>F_46</th>\n",
       "      <th>F_47</th>\n",
       "      <th>F_48</th>\n",
       "      <th>F_49</th>\n",
       "      <th>F_50</th>\n",
       "      <th>F_51</th>\n",
       "      <th>F_52</th>\n",
       "      <th>F_53</th>\n",
       "      <th>F_54</th>\n",
       "      <th>F_55</th>\n",
       "      <th>F_56</th>\n",
       "      <th>F_57</th>\n",
       "      <th>F_58</th>\n",
       "      <th>F_59</th>\n",
       "      <th>F_60</th>\n",
       "      <th>F_61</th>\n",
       "      <th>F_62</th>\n",
       "      <th>F_63</th>\n",
       "      <th>F_64</th>\n",
       "      <th>F_65</th>\n",
       "      <th>F_66</th>\n",
       "      <th>F_67</th>\n",
       "      <th>F_68</th>\n",
       "      <th>F_69</th>\n",
       "      <th>F_70</th>\n",
       "      <th>F_71</th>\n",
       "      <th>F_72</th>\n",
       "      <th>F_73</th>\n",
       "      <th>F_74</th>\n",
       "      <th>F_75</th>\n",
       "      <th>F_76</th>\n",
       "      <th>F_77</th>\n",
       "      <th>F_78</th>\n",
       "      <th>F_79</th>\n",
       "      <th>F_80</th>\n",
       "      <th>F_81</th>\n",
       "      <th>F_82</th>\n",
       "      <th>F_83</th>\n",
       "      <th>F_84</th>\n",
       "      <th>target</th>\n",
       "    </tr>\n",
       "  </thead>\n",
       "  <tbody>\n",
       "    <tr>\n",
       "      <th>0</th>\n",
       "      <td>0.2</td>\n",
       "      <td>1.0</td>\n",
       "      <td>0.326982</td>\n",
       "      <td>0.0</td>\n",
       "      <td>0.333333</td>\n",
       "      <td>0.019608</td>\n",
       "      <td>0.0</td>\n",
       "      <td>0.666667</td>\n",
       "      <td>0.0</td>\n",
       "      <td>0.142857</td>\n",
       "      <td>0.0</td>\n",
       "      <td>0.105263</td>\n",
       "      <td>0.916667</td>\n",
       "      <td>0.113159</td>\n",
       "      <td>0.021441</td>\n",
       "      <td>0.015385</td>\n",
       "      <td>0.0</td>\n",
       "      <td>0.504631</td>\n",
       "      <td>0.094241</td>\n",
       "      <td>0.04</td>\n",
       "      <td>0.107527</td>\n",
       "      <td>0.280724</td>\n",
       "      <td>0.365854</td>\n",
       "      <td>0.0</td>\n",
       "      <td>0.025385</td>\n",
       "      <td>0.0</td>\n",
       "      <td>0.3</td>\n",
       "      <td>1.0</td>\n",
       "      <td>0.0</td>\n",
       "      <td>0.182066</td>\n",
       "      <td>0.071429</td>\n",
       "      <td>1.0</td>\n",
       "      <td>0.08</td>\n",
       "      <td>0.0</td>\n",
       "      <td>0.019868</td>\n",
       "      <td>0.0</td>\n",
       "      <td>0.492341</td>\n",
       "      <td>0.0</td>\n",
       "      <td>0.003722</td>\n",
       "      <td>0.001788</td>\n",
       "      <td>0.536585</td>\n",
       "      <td>0.142857</td>\n",
       "      <td>0.019685</td>\n",
       "      <td>0.007938</td>\n",
       "      <td>0.058824</td>\n",
       "      <td>0.13198</td>\n",
       "      <td>0.21844</td>\n",
       "      <td>0.033149</td>\n",
       "      <td>0.052494</td>\n",
       "      <td>0.053875</td>\n",
       "      <td>0.0</td>\n",
       "      <td>0.153846</td>\n",
       "      <td>0.0</td>\n",
       "      <td>0.769231</td>\n",
       "      <td>0.09901</td>\n",
       "      <td>0.0</td>\n",
       "      <td>0.577845</td>\n",
       "      <td>1.0</td>\n",
       "      <td>0.0</td>\n",
       "      <td>0.011425</td>\n",
       "      <td>0.0</td>\n",
       "      <td>0.0</td>\n",
       "      <td>0.412747</td>\n",
       "      <td>0.017094</td>\n",
       "      <td>0.0</td>\n",
       "      <td>0.0</td>\n",
       "      <td>0.076923</td>\n",
       "      <td>1.0</td>\n",
       "      <td>0.321242</td>\n",
       "      <td>0.471278</td>\n",
       "      <td>0.0</td>\n",
       "      <td>0.013975</td>\n",
       "      <td>0.017002</td>\n",
       "      <td>0.269881</td>\n",
       "      <td>0.0</td>\n",
       "      <td>0.0</td>\n",
       "      <td>0.0</td>\n",
       "      <td>0.928571</td>\n",
       "      <td>0.0</td>\n",
       "      <td>0.007668</td>\n",
       "      <td>0.0</td>\n",
       "      <td>0.0</td>\n",
       "      <td>0.0</td>\n",
       "      <td>0.0</td>\n",
       "      <td>0.662129</td>\n",
       "      <td>1</td>\n",
       "    </tr>\n",
       "  </tbody>\n",
       "</table>\n",
       "</div>"
      ],
      "text/plain": [
       "   F_0  F_1       F_2  F_3       F_4       F_5  F_6       F_7  F_8       F_9  \\\n",
       "0  0.2  1.0  0.326982  0.0  0.333333  0.019608  0.0  0.666667  0.0  0.142857   \n",
       "\n",
       "   F_10      F_11      F_12      F_13      F_14      F_15  F_16      F_17  \\\n",
       "0   0.0  0.105263  0.916667  0.113159  0.021441  0.015385   0.0  0.504631   \n",
       "\n",
       "       F_18  F_19      F_20      F_21      F_22  F_23      F_24  F_25  F_26  \\\n",
       "0  0.094241  0.04  0.107527  0.280724  0.365854   0.0  0.025385   0.0   0.3   \n",
       "\n",
       "   F_27  F_28      F_29      F_30  F_31  F_32  F_33      F_34  F_35      F_36  \\\n",
       "0   1.0   0.0  0.182066  0.071429   1.0  0.08   0.0  0.019868   0.0  0.492341   \n",
       "\n",
       "   F_37      F_38      F_39      F_40      F_41      F_42      F_43      F_44  \\\n",
       "0   0.0  0.003722  0.001788  0.536585  0.142857  0.019685  0.007938  0.058824   \n",
       "\n",
       "      F_45     F_46      F_47      F_48      F_49  F_50      F_51  F_52  \\\n",
       "0  0.13198  0.21844  0.033149  0.052494  0.053875   0.0  0.153846   0.0   \n",
       "\n",
       "       F_53     F_54  F_55      F_56  F_57  F_58      F_59  F_60  F_61  \\\n",
       "0  0.769231  0.09901   0.0  0.577845   1.0   0.0  0.011425   0.0   0.0   \n",
       "\n",
       "       F_62      F_63  F_64  F_65      F_66  F_67      F_68      F_69  F_70  \\\n",
       "0  0.412747  0.017094   0.0   0.0  0.076923   1.0  0.321242  0.471278   0.0   \n",
       "\n",
       "       F_71      F_72      F_73  F_74  F_75  F_76      F_77  F_78      F_79  \\\n",
       "0  0.013975  0.017002  0.269881   0.0   0.0   0.0  0.928571   0.0  0.007668   \n",
       "\n",
       "   F_80  F_81  F_82  F_83      F_84  target  \n",
       "0   0.0   0.0   0.0   0.0  0.662129       1  "
      ]
     },
     "metadata": {},
     "output_type": "display_data"
    },
    {
     "name": "stdout",
     "output_type": "stream",
     "text": [
      "\n",
      "Diverse Counterfactual set (new outcome: 0.0)\n"
     ]
    },
    {
     "data": {
      "text/html": [
       "<div>\n",
       "<style scoped>\n",
       "    .dataframe tbody tr th:only-of-type {\n",
       "        vertical-align: middle;\n",
       "    }\n",
       "\n",
       "    .dataframe tbody tr th {\n",
       "        vertical-align: top;\n",
       "    }\n",
       "\n",
       "    .dataframe thead th {\n",
       "        text-align: right;\n",
       "    }\n",
       "</style>\n",
       "<table border=\"1\" class=\"dataframe\">\n",
       "  <thead>\n",
       "    <tr style=\"text-align: right;\">\n",
       "      <th></th>\n",
       "      <th>F_0</th>\n",
       "      <th>F_1</th>\n",
       "      <th>F_2</th>\n",
       "      <th>F_3</th>\n",
       "      <th>F_4</th>\n",
       "      <th>F_5</th>\n",
       "      <th>F_6</th>\n",
       "      <th>F_7</th>\n",
       "      <th>F_8</th>\n",
       "      <th>F_9</th>\n",
       "      <th>F_10</th>\n",
       "      <th>F_11</th>\n",
       "      <th>F_12</th>\n",
       "      <th>F_13</th>\n",
       "      <th>F_14</th>\n",
       "      <th>F_15</th>\n",
       "      <th>F_16</th>\n",
       "      <th>F_17</th>\n",
       "      <th>F_18</th>\n",
       "      <th>F_19</th>\n",
       "      <th>F_20</th>\n",
       "      <th>F_21</th>\n",
       "      <th>F_22</th>\n",
       "      <th>F_23</th>\n",
       "      <th>F_24</th>\n",
       "      <th>F_25</th>\n",
       "      <th>F_26</th>\n",
       "      <th>F_27</th>\n",
       "      <th>F_28</th>\n",
       "      <th>F_29</th>\n",
       "      <th>F_30</th>\n",
       "      <th>F_31</th>\n",
       "      <th>F_32</th>\n",
       "      <th>F_33</th>\n",
       "      <th>F_34</th>\n",
       "      <th>F_35</th>\n",
       "      <th>F_36</th>\n",
       "      <th>F_37</th>\n",
       "      <th>F_38</th>\n",
       "      <th>F_39</th>\n",
       "      <th>F_40</th>\n",
       "      <th>F_41</th>\n",
       "      <th>F_42</th>\n",
       "      <th>F_43</th>\n",
       "      <th>F_44</th>\n",
       "      <th>F_45</th>\n",
       "      <th>F_46</th>\n",
       "      <th>F_47</th>\n",
       "      <th>F_48</th>\n",
       "      <th>F_49</th>\n",
       "      <th>F_50</th>\n",
       "      <th>F_51</th>\n",
       "      <th>F_52</th>\n",
       "      <th>F_53</th>\n",
       "      <th>F_54</th>\n",
       "      <th>F_55</th>\n",
       "      <th>F_56</th>\n",
       "      <th>F_57</th>\n",
       "      <th>F_58</th>\n",
       "      <th>F_59</th>\n",
       "      <th>F_60</th>\n",
       "      <th>F_61</th>\n",
       "      <th>F_62</th>\n",
       "      <th>F_63</th>\n",
       "      <th>F_64</th>\n",
       "      <th>F_65</th>\n",
       "      <th>F_66</th>\n",
       "      <th>F_67</th>\n",
       "      <th>F_68</th>\n",
       "      <th>F_69</th>\n",
       "      <th>F_70</th>\n",
       "      <th>F_71</th>\n",
       "      <th>F_72</th>\n",
       "      <th>F_73</th>\n",
       "      <th>F_74</th>\n",
       "      <th>F_75</th>\n",
       "      <th>F_76</th>\n",
       "      <th>F_77</th>\n",
       "      <th>F_78</th>\n",
       "      <th>F_79</th>\n",
       "      <th>F_80</th>\n",
       "      <th>F_81</th>\n",
       "      <th>F_82</th>\n",
       "      <th>F_83</th>\n",
       "      <th>F_84</th>\n",
       "      <th>target</th>\n",
       "    </tr>\n",
       "  </thead>\n",
       "  <tbody>\n",
       "    <tr>\n",
       "      <th>0</th>\n",
       "      <td>-</td>\n",
       "      <td>-</td>\n",
       "      <td>-</td>\n",
       "      <td>-</td>\n",
       "      <td>-</td>\n",
       "      <td>1.0999999999999999</td>\n",
       "      <td>-</td>\n",
       "      <td>-</td>\n",
       "      <td>-</td>\n",
       "      <td>-</td>\n",
       "      <td>-</td>\n",
       "      <td>-</td>\n",
       "      <td>-</td>\n",
       "      <td>-</td>\n",
       "      <td>-</td>\n",
       "      <td>1.0999999999999999</td>\n",
       "      <td>-</td>\n",
       "      <td>-</td>\n",
       "      <td>-</td>\n",
       "      <td>0.0</td>\n",
       "      <td>-</td>\n",
       "      <td>-</td>\n",
       "      <td>-</td>\n",
       "      <td>-</td>\n",
       "      <td>0.0</td>\n",
       "      <td>-</td>\n",
       "      <td>-</td>\n",
       "      <td>-</td>\n",
       "      <td>-</td>\n",
       "      <td>-</td>\n",
       "      <td>-</td>\n",
       "      <td>-</td>\n",
       "      <td>-</td>\n",
       "      <td>-</td>\n",
       "      <td>0.0</td>\n",
       "      <td>-</td>\n",
       "      <td>-</td>\n",
       "      <td>-</td>\n",
       "      <td>1.0037216645990752</td>\n",
       "      <td>1.001788055070413</td>\n",
       "      <td>-</td>\n",
       "      <td>-</td>\n",
       "      <td>-</td>\n",
       "      <td>-</td>\n",
       "      <td>-</td>\n",
       "      <td>-</td>\n",
       "      <td>-</td>\n",
       "      <td>-</td>\n",
       "      <td>-</td>\n",
       "      <td>-</td>\n",
       "      <td>-</td>\n",
       "      <td>-</td>\n",
       "      <td>-</td>\n",
       "      <td>-</td>\n",
       "      <td>-</td>\n",
       "      <td>-</td>\n",
       "      <td>-</td>\n",
       "      <td>-</td>\n",
       "      <td>-</td>\n",
       "      <td>-</td>\n",
       "      <td>-</td>\n",
       "      <td>-</td>\n",
       "      <td>-</td>\n",
       "      <td>0.0</td>\n",
       "      <td>-</td>\n",
       "      <td>-</td>\n",
       "      <td>-</td>\n",
       "      <td>-</td>\n",
       "      <td>-</td>\n",
       "      <td>-</td>\n",
       "      <td>-</td>\n",
       "      <td>-</td>\n",
       "      <td>-</td>\n",
       "      <td>-</td>\n",
       "      <td>-</td>\n",
       "      <td>-</td>\n",
       "      <td>-</td>\n",
       "      <td>-</td>\n",
       "      <td>-</td>\n",
       "      <td>-</td>\n",
       "      <td>-</td>\n",
       "      <td>-</td>\n",
       "      <td>-</td>\n",
       "      <td>-</td>\n",
       "      <td>-</td>\n",
       "      <td>0.0</td>\n",
       "    </tr>\n",
       "    <tr>\n",
       "      <th>1</th>\n",
       "      <td>-</td>\n",
       "      <td>-</td>\n",
       "      <td>-</td>\n",
       "      <td>-</td>\n",
       "      <td>-</td>\n",
       "      <td>1.0999999999999999</td>\n",
       "      <td>-</td>\n",
       "      <td>-</td>\n",
       "      <td>-</td>\n",
       "      <td>-</td>\n",
       "      <td>-</td>\n",
       "      <td>-</td>\n",
       "      <td>-</td>\n",
       "      <td>-</td>\n",
       "      <td>-</td>\n",
       "      <td>1.0</td>\n",
       "      <td>-</td>\n",
       "      <td>-</td>\n",
       "      <td>-</td>\n",
       "      <td>0.0</td>\n",
       "      <td>-</td>\n",
       "      <td>-</td>\n",
       "      <td>-</td>\n",
       "      <td>-</td>\n",
       "      <td>0.0</td>\n",
       "      <td>-</td>\n",
       "      <td>-</td>\n",
       "      <td>-</td>\n",
       "      <td>-</td>\n",
       "      <td>-</td>\n",
       "      <td>-</td>\n",
       "      <td>-</td>\n",
       "      <td>-</td>\n",
       "      <td>-</td>\n",
       "      <td>0.0</td>\n",
       "      <td>-</td>\n",
       "      <td>-</td>\n",
       "      <td>-</td>\n",
       "      <td>1.0037216645990752</td>\n",
       "      <td>1.001788055070413</td>\n",
       "      <td>-</td>\n",
       "      <td>-</td>\n",
       "      <td>-</td>\n",
       "      <td>-</td>\n",
       "      <td>-</td>\n",
       "      <td>-</td>\n",
       "      <td>-</td>\n",
       "      <td>-</td>\n",
       "      <td>-</td>\n",
       "      <td>-</td>\n",
       "      <td>-</td>\n",
       "      <td>-</td>\n",
       "      <td>-</td>\n",
       "      <td>-</td>\n",
       "      <td>-</td>\n",
       "      <td>-</td>\n",
       "      <td>-</td>\n",
       "      <td>-</td>\n",
       "      <td>-</td>\n",
       "      <td>-</td>\n",
       "      <td>-</td>\n",
       "      <td>-</td>\n",
       "      <td>-</td>\n",
       "      <td>0.0</td>\n",
       "      <td>-</td>\n",
       "      <td>-</td>\n",
       "      <td>-</td>\n",
       "      <td>-</td>\n",
       "      <td>-</td>\n",
       "      <td>-</td>\n",
       "      <td>-</td>\n",
       "      <td>-</td>\n",
       "      <td>-</td>\n",
       "      <td>-</td>\n",
       "      <td>-</td>\n",
       "      <td>-</td>\n",
       "      <td>-</td>\n",
       "      <td>-</td>\n",
       "      <td>-</td>\n",
       "      <td>-</td>\n",
       "      <td>-</td>\n",
       "      <td>-</td>\n",
       "      <td>-</td>\n",
       "      <td>-</td>\n",
       "      <td>-</td>\n",
       "      <td>0.0</td>\n",
       "    </tr>\n",
       "    <tr>\n",
       "      <th>2</th>\n",
       "      <td>-</td>\n",
       "      <td>-</td>\n",
       "      <td>-</td>\n",
       "      <td>-</td>\n",
       "      <td>-</td>\n",
       "      <td>1.0999999999999999</td>\n",
       "      <td>-</td>\n",
       "      <td>-</td>\n",
       "      <td>-</td>\n",
       "      <td>-</td>\n",
       "      <td>-</td>\n",
       "      <td>-</td>\n",
       "      <td>-</td>\n",
       "      <td>-</td>\n",
       "      <td>-</td>\n",
       "      <td>1.0153846152284023</td>\n",
       "      <td>-</td>\n",
       "      <td>-</td>\n",
       "      <td>-</td>\n",
       "      <td>0.0</td>\n",
       "      <td>-</td>\n",
       "      <td>-</td>\n",
       "      <td>-</td>\n",
       "      <td>-</td>\n",
       "      <td>0.0</td>\n",
       "      <td>-</td>\n",
       "      <td>-</td>\n",
       "      <td>-</td>\n",
       "      <td>-</td>\n",
       "      <td>-</td>\n",
       "      <td>-</td>\n",
       "      <td>-</td>\n",
       "      <td>-</td>\n",
       "      <td>-</td>\n",
       "      <td>0.0</td>\n",
       "      <td>-</td>\n",
       "      <td>-</td>\n",
       "      <td>-</td>\n",
       "      <td>1.0037216645990752</td>\n",
       "      <td>1.001788055070413</td>\n",
       "      <td>-</td>\n",
       "      <td>-</td>\n",
       "      <td>-</td>\n",
       "      <td>-</td>\n",
       "      <td>-</td>\n",
       "      <td>-</td>\n",
       "      <td>-</td>\n",
       "      <td>-</td>\n",
       "      <td>-</td>\n",
       "      <td>-</td>\n",
       "      <td>-</td>\n",
       "      <td>-</td>\n",
       "      <td>-</td>\n",
       "      <td>-</td>\n",
       "      <td>-</td>\n",
       "      <td>-</td>\n",
       "      <td>-</td>\n",
       "      <td>-</td>\n",
       "      <td>-</td>\n",
       "      <td>-</td>\n",
       "      <td>-</td>\n",
       "      <td>-</td>\n",
       "      <td>-</td>\n",
       "      <td>0.0</td>\n",
       "      <td>-</td>\n",
       "      <td>-</td>\n",
       "      <td>-</td>\n",
       "      <td>-</td>\n",
       "      <td>-</td>\n",
       "      <td>-</td>\n",
       "      <td>-</td>\n",
       "      <td>-</td>\n",
       "      <td>-</td>\n",
       "      <td>-</td>\n",
       "      <td>-</td>\n",
       "      <td>-</td>\n",
       "      <td>-</td>\n",
       "      <td>-</td>\n",
       "      <td>-</td>\n",
       "      <td>-</td>\n",
       "      <td>-</td>\n",
       "      <td>-</td>\n",
       "      <td>-</td>\n",
       "      <td>-</td>\n",
       "      <td>-</td>\n",
       "      <td>0.0</td>\n",
       "    </tr>\n",
       "    <tr>\n",
       "      <th>3</th>\n",
       "      <td>-</td>\n",
       "      <td>-</td>\n",
       "      <td>-</td>\n",
       "      <td>-</td>\n",
       "      <td>-</td>\n",
       "      <td>1.0999999999999999</td>\n",
       "      <td>-</td>\n",
       "      <td>-</td>\n",
       "      <td>-</td>\n",
       "      <td>-</td>\n",
       "      <td>-</td>\n",
       "      <td>-</td>\n",
       "      <td>-</td>\n",
       "      <td>-</td>\n",
       "      <td>-</td>\n",
       "      <td>1.0153846152284023</td>\n",
       "      <td>-</td>\n",
       "      <td>-</td>\n",
       "      <td>0.14018917</td>\n",
       "      <td>0.0</td>\n",
       "      <td>-</td>\n",
       "      <td>-</td>\n",
       "      <td>-</td>\n",
       "      <td>-</td>\n",
       "      <td>0.0</td>\n",
       "      <td>-</td>\n",
       "      <td>-</td>\n",
       "      <td>-</td>\n",
       "      <td>-</td>\n",
       "      <td>-</td>\n",
       "      <td>-</td>\n",
       "      <td>-</td>\n",
       "      <td>-</td>\n",
       "      <td>-</td>\n",
       "      <td>0.0</td>\n",
       "      <td>-</td>\n",
       "      <td>-</td>\n",
       "      <td>-</td>\n",
       "      <td>1.0037216645990752</td>\n",
       "      <td>1.001788055070413</td>\n",
       "      <td>-</td>\n",
       "      <td>-</td>\n",
       "      <td>-</td>\n",
       "      <td>-</td>\n",
       "      <td>-</td>\n",
       "      <td>-</td>\n",
       "      <td>-</td>\n",
       "      <td>-</td>\n",
       "      <td>-</td>\n",
       "      <td>-</td>\n",
       "      <td>-</td>\n",
       "      <td>-</td>\n",
       "      <td>-</td>\n",
       "      <td>-</td>\n",
       "      <td>-</td>\n",
       "      <td>-</td>\n",
       "      <td>-</td>\n",
       "      <td>-</td>\n",
       "      <td>-</td>\n",
       "      <td>-</td>\n",
       "      <td>-</td>\n",
       "      <td>-</td>\n",
       "      <td>-</td>\n",
       "      <td>0.0</td>\n",
       "      <td>-</td>\n",
       "      <td>-</td>\n",
       "      <td>-</td>\n",
       "      <td>-</td>\n",
       "      <td>-</td>\n",
       "      <td>-</td>\n",
       "      <td>-</td>\n",
       "      <td>-</td>\n",
       "      <td>-</td>\n",
       "      <td>-</td>\n",
       "      <td>-</td>\n",
       "      <td>-</td>\n",
       "      <td>-</td>\n",
       "      <td>-</td>\n",
       "      <td>-</td>\n",
       "      <td>-</td>\n",
       "      <td>-</td>\n",
       "      <td>-</td>\n",
       "      <td>-</td>\n",
       "      <td>-</td>\n",
       "      <td>-</td>\n",
       "      <td>0.0</td>\n",
       "    </tr>\n",
       "    <tr>\n",
       "      <th>4</th>\n",
       "      <td>-</td>\n",
       "      <td>-</td>\n",
       "      <td>-</td>\n",
       "      <td>-</td>\n",
       "      <td>-</td>\n",
       "      <td>1.0999999999999999</td>\n",
       "      <td>-</td>\n",
       "      <td>-</td>\n",
       "      <td>-</td>\n",
       "      <td>-</td>\n",
       "      <td>-</td>\n",
       "      <td>-</td>\n",
       "      <td>-</td>\n",
       "      <td>-</td>\n",
       "      <td>-</td>\n",
       "      <td>1.0153846152284023</td>\n",
       "      <td>-</td>\n",
       "      <td>-</td>\n",
       "      <td>-</td>\n",
       "      <td>0.0</td>\n",
       "      <td>-</td>\n",
       "      <td>-</td>\n",
       "      <td>-</td>\n",
       "      <td>-</td>\n",
       "      <td>0.0</td>\n",
       "      <td>-</td>\n",
       "      <td>-</td>\n",
       "      <td>-</td>\n",
       "      <td>-</td>\n",
       "      <td>-</td>\n",
       "      <td>-</td>\n",
       "      <td>-</td>\n",
       "      <td>-</td>\n",
       "      <td>-</td>\n",
       "      <td>0.0</td>\n",
       "      <td>-</td>\n",
       "      <td>-</td>\n",
       "      <td>-</td>\n",
       "      <td>0.0</td>\n",
       "      <td>0.0</td>\n",
       "      <td>-</td>\n",
       "      <td>-</td>\n",
       "      <td>-</td>\n",
       "      <td>-</td>\n",
       "      <td>-</td>\n",
       "      <td>-</td>\n",
       "      <td>-</td>\n",
       "      <td>-</td>\n",
       "      <td>-</td>\n",
       "      <td>-</td>\n",
       "      <td>-</td>\n",
       "      <td>-</td>\n",
       "      <td>-</td>\n",
       "      <td>-</td>\n",
       "      <td>-</td>\n",
       "      <td>-</td>\n",
       "      <td>-</td>\n",
       "      <td>-</td>\n",
       "      <td>-</td>\n",
       "      <td>-</td>\n",
       "      <td>-</td>\n",
       "      <td>-</td>\n",
       "      <td>-</td>\n",
       "      <td>1.017094017179487</td>\n",
       "      <td>-</td>\n",
       "      <td>-</td>\n",
       "      <td>-</td>\n",
       "      <td>-</td>\n",
       "      <td>-</td>\n",
       "      <td>-</td>\n",
       "      <td>-</td>\n",
       "      <td>-</td>\n",
       "      <td>-</td>\n",
       "      <td>-</td>\n",
       "      <td>-</td>\n",
       "      <td>-</td>\n",
       "      <td>-</td>\n",
       "      <td>-</td>\n",
       "      <td>-</td>\n",
       "      <td>-</td>\n",
       "      <td>-</td>\n",
       "      <td>-</td>\n",
       "      <td>-</td>\n",
       "      <td>-</td>\n",
       "      <td>-</td>\n",
       "      <td>-</td>\n",
       "    </tr>\n",
       "  </tbody>\n",
       "</table>\n",
       "</div>"
      ],
      "text/plain": [
       "  F_0 F_1 F_2 F_3 F_4                 F_5 F_6 F_7 F_8 F_9 F_10 F_11 F_12 F_13  \\\n",
       "0   -   -   -   -   -  1.0999999999999999   -   -   -   -    -    -    -    -   \n",
       "1   -   -   -   -   -  1.0999999999999999   -   -   -   -    -    -    -    -   \n",
       "2   -   -   -   -   -  1.0999999999999999   -   -   -   -    -    -    -    -   \n",
       "3   -   -   -   -   -  1.0999999999999999   -   -   -   -    -    -    -    -   \n",
       "4   -   -   -   -   -  1.0999999999999999   -   -   -   -    -    -    -    -   \n",
       "\n",
       "  F_14                F_15 F_16 F_17        F_18 F_19 F_20 F_21 F_22 F_23  \\\n",
       "0    -  1.0999999999999999    -    -           -  0.0    -    -    -    -   \n",
       "1    -                 1.0    -    -           -  0.0    -    -    -    -   \n",
       "2    -  1.0153846152284023    -    -           -  0.0    -    -    -    -   \n",
       "3    -  1.0153846152284023    -    -  0.14018917  0.0    -    -    -    -   \n",
       "4    -  1.0153846152284023    -    -           -  0.0    -    -    -    -   \n",
       "\n",
       "  F_24 F_25 F_26 F_27 F_28 F_29 F_30 F_31 F_32 F_33 F_34 F_35 F_36 F_37  \\\n",
       "0  0.0    -    -    -    -    -    -    -    -    -  0.0    -    -    -   \n",
       "1  0.0    -    -    -    -    -    -    -    -    -  0.0    -    -    -   \n",
       "2  0.0    -    -    -    -    -    -    -    -    -  0.0    -    -    -   \n",
       "3  0.0    -    -    -    -    -    -    -    -    -  0.0    -    -    -   \n",
       "4  0.0    -    -    -    -    -    -    -    -    -  0.0    -    -    -   \n",
       "\n",
       "                 F_38               F_39 F_40 F_41 F_42 F_43 F_44 F_45 F_46  \\\n",
       "0  1.0037216645990752  1.001788055070413    -    -    -    -    -    -    -   \n",
       "1  1.0037216645990752  1.001788055070413    -    -    -    -    -    -    -   \n",
       "2  1.0037216645990752  1.001788055070413    -    -    -    -    -    -    -   \n",
       "3  1.0037216645990752  1.001788055070413    -    -    -    -    -    -    -   \n",
       "4                 0.0                0.0    -    -    -    -    -    -    -   \n",
       "\n",
       "  F_47 F_48 F_49 F_50 F_51 F_52 F_53 F_54 F_55 F_56 F_57 F_58 F_59 F_60 F_61  \\\n",
       "0    -    -    -    -    -    -    -    -    -    -    -    -    -    -    -   \n",
       "1    -    -    -    -    -    -    -    -    -    -    -    -    -    -    -   \n",
       "2    -    -    -    -    -    -    -    -    -    -    -    -    -    -    -   \n",
       "3    -    -    -    -    -    -    -    -    -    -    -    -    -    -    -   \n",
       "4    -    -    -    -    -    -    -    -    -    -    -    -    -    -    -   \n",
       "\n",
       "  F_62               F_63 F_64 F_65 F_66 F_67 F_68 F_69 F_70 F_71 F_72 F_73  \\\n",
       "0    -                0.0    -    -    -    -    -    -    -    -    -    -   \n",
       "1    -                0.0    -    -    -    -    -    -    -    -    -    -   \n",
       "2    -                0.0    -    -    -    -    -    -    -    -    -    -   \n",
       "3    -                0.0    -    -    -    -    -    -    -    -    -    -   \n",
       "4    -  1.017094017179487    -    -    -    -    -    -    -    -    -    -   \n",
       "\n",
       "  F_74 F_75 F_76 F_77 F_78 F_79 F_80 F_81 F_82 F_83 F_84 target  \n",
       "0    -    -    -    -    -    -    -    -    -    -    -    0.0  \n",
       "1    -    -    -    -    -    -    -    -    -    -    -    0.0  \n",
       "2    -    -    -    -    -    -    -    -    -    -    -    0.0  \n",
       "3    -    -    -    -    -    -    -    -    -    -    -    0.0  \n",
       "4    -    -    -    -    -    -    -    -    -    -    -      -  "
      ]
     },
     "metadata": {},
     "output_type": "display_data"
    }
   ],
   "source": [
    "# example for one instance\n",
    "dice.get_cf(90, printout=True)"
   ]
  },
  {
   "cell_type": "code",
   "execution_count": null,
   "metadata": {
    "ExecuteTime": {
     "start_time": "2021-11-29T19:31:42.204Z"
    },
    "scrolled": false
   },
   "outputs": [
    {
     "data": {
      "application/vnd.jupyter.widget-view+json": {
       "model_id": "248c076584b244bfbf8fdf0b2960b5e8",
       "version_major": 2,
       "version_minor": 0
      },
      "text/plain": [
       "  0%|          | 0/5740 [00:00<?, ?it/s]"
      ]
     },
     "metadata": {},
     "output_type": "display_data"
    }
   ],
   "source": [
    "%%capture --no-display\n",
    "dice.evaluate_dataset(n=1, save=True, name='case_dice_cf_2')"
   ]
  },
  {
   "cell_type": "markdown",
   "metadata": {},
   "source": [
    "Simulation results on a subset:"
   ]
  },
  {
   "cell_type": "code",
   "execution_count": null,
   "metadata": {
    "ExecuteTime": {
     "start_time": "2021-11-29T19:31:49.058Z"
    }
   },
   "outputs": [],
   "source": [
    "dice.print_metrics()"
   ]
  },
  {
   "cell_type": "markdown",
   "metadata": {},
   "source": [
    "How dice changes features:"
   ]
  },
  {
   "cell_type": "code",
   "execution_count": null,
   "metadata": {
    "ExecuteTime": {
     "start_time": "2021-11-29T19:31:49.453Z"
    }
   },
   "outputs": [],
   "source": [
    "dice.plot_diffs()"
   ]
  },
  {
   "cell_type": "code",
   "execution_count": null,
   "metadata": {
    "ExecuteTime": {
     "start_time": "2021-11-29T19:31:49.953Z"
    }
   },
   "outputs": [],
   "source": [
    "dice.cfs.keys()"
   ]
  },
  {
   "cell_type": "markdown",
   "metadata": {
    "heading_collapsed": true
   },
   "source": [
    "### Generate counterfactuals for a sample n=100 using all features"
   ]
  },
  {
   "cell_type": "code",
   "execution_count": null,
   "metadata": {
    "ExecuteTime": {
     "end_time": "2021-11-29T19:31:40.131481Z",
     "start_time": "2021-11-29T19:31:40.131464Z"
    },
    "hidden": true
   },
   "outputs": [],
   "source": [
    "%%capture --no-display\n",
    "dice2 = DiCeReport(case, desired_class=0)\n",
    "dice2.create_explainer()\n",
    "dice2.evaluate_dataset(n=100, save=True, \n",
    "               name='case_dice_cf_all_feats',\n",
    "               timeout=20) \n",
    "#increased timeout because all features take longer time to vary"
   ]
  },
  {
   "cell_type": "code",
   "execution_count": null,
   "metadata": {
    "ExecuteTime": {
     "end_time": "2021-11-29T19:31:40.132737Z",
     "start_time": "2021-11-29T19:31:40.132722Z"
    },
    "hidden": true
   },
   "outputs": [],
   "source": [
    "dice2.print_metrics()"
   ]
  },
  {
   "cell_type": "markdown",
   "metadata": {},
   "source": [
    "## LimeReport"
   ]
  },
  {
   "cell_type": "code",
   "execution_count": null,
   "metadata": {
    "ExecuteTime": {
     "start_time": "2021-11-29T19:31:54.658Z"
    }
   },
   "outputs": [],
   "source": [
    "lime = LimeReport(case, desired_class=0, \n",
    "                  features_to_vary=features_to_vary)\n",
    "lime.create_explainer()\n",
    "lime.evaluate_dataset(dice.cfs)\n",
    "lime.plot_coefs(-0.015,0.03)"
   ]
  },
  {
   "cell_type": "markdown",
   "metadata": {
    "hide_input": true
   },
   "source": [
    "We can see that several features have lime coefficients with different sign for the same instances, means are very close to zero. \n",
    "\n",
    "At the same time, for many coefficients are negative (especially for F_18 and F_12), and it doesn't support the DiCE decision to increase the values of this features."
   ]
  },
  {
   "cell_type": "markdown",
   "metadata": {},
   "source": [
    "## SLIME - try Stabilized LIME implementation (KDD 2021)"
   ]
  },
  {
   "cell_type": "code",
   "execution_count": null,
   "metadata": {
    "ExecuteTime": {
     "start_time": "2021-11-29T19:31:56.650Z"
    }
   },
   "outputs": [],
   "source": [
    "slime = LimeReport(case, desired_class=0, slime=True, \n",
    "                  features_to_vary=features_to_vary)\n",
    "slime.create_explainer()\n",
    "slime.evaluate_dataset(dice.cfs)\n",
    "slime.plot_coefs(-0.015,0.03)"
   ]
  },
  {
   "cell_type": "markdown",
   "metadata": {},
   "source": [
    "Results, in general, are very similar to results of LIME. "
   ]
  },
  {
   "cell_type": "markdown",
   "metadata": {},
   "source": [
    "## SHAP"
   ]
  },
  {
   "cell_type": "markdown",
   "metadata": {},
   "source": [
    "For DiCE subset:"
   ]
  },
  {
   "cell_type": "code",
   "execution_count": null,
   "metadata": {
    "ExecuteTime": {
     "start_time": "2021-11-29T19:32:00.589Z"
    }
   },
   "outputs": [],
   "source": [
    "shv = ShapReport(case, desired_class=0, features_to_vary=features_to_vary)\n",
    "shv.create_explainer()\n",
    "shv.evaluate_dataset(dice.cfs)\n",
    "shv.plot_coefs(-0.15,0.05)"
   ]
  },
  {
   "cell_type": "markdown",
   "metadata": {},
   "source": [
    "For all instances:"
   ]
  },
  {
   "cell_type": "code",
   "execution_count": null,
   "metadata": {
    "ExecuteTime": {
     "start_time": "2021-11-29T19:32:01.066Z"
    }
   },
   "outputs": [],
   "source": [
    "shv = ShapReport(case, desired_class=0, features_to_vary=features_to_vary)\n",
    "shv.create_explainer()\n",
    "shv.evaluate_dataset()\n",
    "shv.plot_coefs()"
   ]
  },
  {
   "cell_type": "markdown",
   "metadata": {
    "ExecuteTime": {
     "end_time": "2021-11-28T15:57:20.007362Z",
     "start_time": "2021-11-28T15:57:19.885281Z"
    }
   },
   "source": [
    "## Compare results for DiCE, SHAP and SLIME"
   ]
  },
  {
   "cell_type": "markdown",
   "metadata": {},
   "source": [
    "General comparison:"
   ]
  },
  {
   "cell_type": "code",
   "execution_count": null,
   "metadata": {
    "ExecuteTime": {
     "start_time": "2021-11-29T19:32:02.601Z"
    }
   },
   "outputs": [],
   "source": [
    "comp = Comparator(model=case, dice=dice, sh=shv)\n",
    "comp.compare_dice_slime()"
   ]
  },
  {
   "cell_type": "code",
   "execution_count": null,
   "metadata": {
    "ExecuteTime": {
     "start_time": "2021-11-29T19:32:02.873Z"
    }
   },
   "outputs": [],
   "source": [
    "comp.compare_dice_shap()"
   ]
  },
  {
   "cell_type": "markdown",
   "metadata": {},
   "source": [
    "Instance-level comparison: "
   ]
  },
  {
   "cell_type": "code",
   "execution_count": null,
   "metadata": {
    "ExecuteTime": {
     "start_time": "2021-11-29T19:32:03.529Z"
    }
   },
   "outputs": [],
   "source": [
    "comp.dice.cfs.keys()"
   ]
  },
  {
   "cell_type": "code",
   "execution_count": null,
   "metadata": {
    "ExecuteTime": {
     "start_time": "2021-11-29T19:32:05.336Z"
    }
   },
   "outputs": [],
   "source": [
    "instance_id = 10440\n",
    "comp.compare_instance(instance_id)"
   ]
  },
  {
   "cell_type": "markdown",
   "metadata": {
    "ExecuteTime": {
     "end_time": "2021-11-24T17:04:47.376066Z",
     "start_time": "2021-11-24T17:04:46.861445Z"
    }
   },
   "source": [
    "## Explainers draft"
   ]
  },
  {
   "cell_type": "code",
   "execution_count": null,
   "metadata": {
    "ExecuteTime": {
     "start_time": "2021-11-29T19:32:09.751Z"
    }
   },
   "outputs": [],
   "source": [
    "features = features_to_vary\n",
    "title_fill = ['manager actions (and some other) features', \n",
    "              'Case', 'LightGBM']\n",
    "plot_pdp_ice(case.grid_pipe_lgbm, case.X_train, features, title_fill)"
   ]
  },
  {
   "cell_type": "code",
   "execution_count": null,
   "metadata": {},
   "outputs": [],
   "source": []
  }
 ],
 "metadata": {
  "kernelspec": {
   "display_name": "cienv37",
   "language": "python",
   "name": "cienv37"
  },
  "language_info": {
   "codemirror_mode": {
    "name": "ipython",
    "version": 3
   },
   "file_extension": ".py",
   "mimetype": "text/x-python",
   "name": "python",
   "nbconvert_exporter": "python",
   "pygments_lexer": "ipython3",
   "version": "3.7.11"
  },
  "toc": {
   "base_numbering": 1,
   "nav_menu": {},
   "number_sections": true,
   "sideBar": true,
   "skip_h1_title": false,
   "title_cell": "Table of Contents",
   "title_sidebar": "Contents",
   "toc_cell": false,
   "toc_position": {},
   "toc_section_display": true,
   "toc_window_display": false
  }
 },
 "nbformat": 4,
 "nbformat_minor": 4
}
